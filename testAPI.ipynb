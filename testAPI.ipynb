{
 "cells": [
  {
   "cell_type": "code",
   "execution_count": 1,
   "id": "86a06acd-31c3-4df6-a802-6b02bc1acc8c",
   "metadata": {},
   "outputs": [],
   "source": [
    "import pandas as pd\n",
    "import requests"
   ]
  },
  {
   "cell_type": "code",
   "execution_count": 8,
   "id": "a8e68d43-bbfd-44a6-a4cd-4d5e411c34ce",
   "metadata": {},
   "outputs": [
    {
     "name": "stdout",
     "output_type": "stream",
     "text": [
      "{'result': '03AFcWeA5WG28hTRXSFEMvTxnle8qkaagq2ZlXIRtoyayBeP-Dl4WcblnWRWgQ0ufndOkI7qIsHeOXBFkrvbRp6mMLSC-O6D5nghY66QIvP2Z0XhmbcTrrm3ZY0Q_tea2HnW46XQI6_PWYFoPPawRm8Xxg-K4KcMteI_T6GkZ1fHt6A-7Wurrkj8z8Bhna7sr7ku9zsXAhdHkZX23kDb6bl0FnKpL8ew1nEkPDIOqg7ZQ-Kr2aTeiQHNvYiK6d2sUghXCGHSGTrjQfIBitJ1qEuHo6DOALOy5M6PiZNUOrx_7GE8yxViaJQW8H65x5LB1GSkBJZP1cLW9G-XgwNpQ8oBH-sfBNKskrBS9_tLh7XZNsZy2r4yytMPBm-VbCBy6sSqUdyH8r_4vOlVs3-CdfDMeRDbQmMDKMm0aQucMEcVMA8ty8eT2LUzxnpUA314NpGMW7x61g_DgxMf6vazsPu1YbnElaT8siKK1qDMyuoize7QBqbVrt2aFYK1JO7AZGo2y9M6Bh9aOmugyM86jreKds70hMYTgl8bCP7zXW1GFpCsI8tCluizZEPCpZzA3XCxGvvXBOufyXeOR80y-kguGhsHVNp2MBUcafdfAm1CN7zkH7cszJlYevild3b7yRUTLswuQ2rbUGCcYEVCVMbFZr_VK7lXFvT7DArh2h-Enu0N0yAUzvwXK96LFCzeIrM1JVPcKsalD0cnB-VTTMIineEdxRLqSCed2-FUYX_oqIAgMwL8-rvXYcRo4gCQciQfM-VH9Cxf8kvy5y6HjwgQIBK1noYETfYqm-fKFE6UtaKBldMLF-zNA'}\n"
     ]
    }
   ],
   "source": [
    "import requests\n",
    "\n",
    "url = \"https://captchakiller1.p.rapidapi.com/solvev2e\"\n",
    "\n",
    "querystring = {\"site\":\"https://recaptcha-demo.appspot.com/\",\"sitekey\":\"6LfW6wATAAAAAHLqO2pb8bDBahxlMxNdo9g947u9\",\"gdomain\":\"false\",\"invisible\":\"false\"}\n",
    "\n",
    "headers = {\n",
    "\t\"x-rapidapi-key\": \"42a7786904msh660155742adfaafp19e039jsn067c89f22485\",\n",
    "\t\"x-rapidapi-host\": \"captchakiller1.p.rapidapi.com\"\n",
    "}\n",
    "\n",
    "response = requests.get(url, headers=headers, params=querystring)\n",
    "\n",
    "print(response.json())"
   ]
  },
  {
   "cell_type": "code",
   "execution_count": 9,
   "id": "5e6eb2e9-0a21-4abf-bfb8-cc37b2701aec",
   "metadata": {},
   "outputs": [
    {
     "data": {
      "text/plain": [
       "{'result': '03AFcWeA5WG28hTRXSFEMvTxnle8qkaagq2ZlXIRtoyayBeP-Dl4WcblnWRWgQ0ufndOkI7qIsHeOXBFkrvbRp6mMLSC-O6D5nghY66QIvP2Z0XhmbcTrrm3ZY0Q_tea2HnW46XQI6_PWYFoPPawRm8Xxg-K4KcMteI_T6GkZ1fHt6A-7Wurrkj8z8Bhna7sr7ku9zsXAhdHkZX23kDb6bl0FnKpL8ew1nEkPDIOqg7ZQ-Kr2aTeiQHNvYiK6d2sUghXCGHSGTrjQfIBitJ1qEuHo6DOALOy5M6PiZNUOrx_7GE8yxViaJQW8H65x5LB1GSkBJZP1cLW9G-XgwNpQ8oBH-sfBNKskrBS9_tLh7XZNsZy2r4yytMPBm-VbCBy6sSqUdyH8r_4vOlVs3-CdfDMeRDbQmMDKMm0aQucMEcVMA8ty8eT2LUzxnpUA314NpGMW7x61g_DgxMf6vazsPu1YbnElaT8siKK1qDMyuoize7QBqbVrt2aFYK1JO7AZGo2y9M6Bh9aOmugyM86jreKds70hMYTgl8bCP7zXW1GFpCsI8tCluizZEPCpZzA3XCxGvvXBOufyXeOR80y-kguGhsHVNp2MBUcafdfAm1CN7zkH7cszJlYevild3b7yRUTLswuQ2rbUGCcYEVCVMbFZr_VK7lXFvT7DArh2h-Enu0N0yAUzvwXK96LFCzeIrM1JVPcKsalD0cnB-VTTMIineEdxRLqSCed2-FUYX_oqIAgMwL8-rvXYcRo4gCQciQfM-VH9Cxf8kvy5y6HjwgQIBK1noYETfYqm-fKFE6UtaKBldMLF-zNA'}"
      ]
     },
     "execution_count": 9,
     "metadata": {},
     "output_type": "execute_result"
    }
   ],
   "source": [
    "response.json()"
   ]
  },
  {
   "cell_type": "code",
   "execution_count": 10,
   "id": "e42fbb6a-595a-4217-ac7b-2a3287879713",
   "metadata": {},
   "outputs": [
    {
     "ename": "ValueError",
     "evalue": "If using all scalar values, you must pass an index",
     "output_type": "error",
     "traceback": [
      "\u001b[1;31m---------------------------------------------------------------------------\u001b[0m",
      "\u001b[1;31mValueError\u001b[0m                                Traceback (most recent call last)",
      "Cell \u001b[1;32mIn[10], line 1\u001b[0m\n\u001b[1;32m----> 1\u001b[0m df \u001b[38;5;241m=\u001b[39m pd\u001b[38;5;241m.\u001b[39mDataFrame(response\u001b[38;5;241m.\u001b[39mjson())\n",
      "File \u001b[1;32mC:\\ProgramData\\anaconda3\\Lib\\site-packages\\pandas\\core\\frame.py:778\u001b[0m, in \u001b[0;36mDataFrame.__init__\u001b[1;34m(self, data, index, columns, dtype, copy)\u001b[0m\n\u001b[0;32m    772\u001b[0m     mgr \u001b[38;5;241m=\u001b[39m \u001b[38;5;28mself\u001b[39m\u001b[38;5;241m.\u001b[39m_init_mgr(\n\u001b[0;32m    773\u001b[0m         data, axes\u001b[38;5;241m=\u001b[39m{\u001b[38;5;124m\"\u001b[39m\u001b[38;5;124mindex\u001b[39m\u001b[38;5;124m\"\u001b[39m: index, \u001b[38;5;124m\"\u001b[39m\u001b[38;5;124mcolumns\u001b[39m\u001b[38;5;124m\"\u001b[39m: columns}, dtype\u001b[38;5;241m=\u001b[39mdtype, copy\u001b[38;5;241m=\u001b[39mcopy\n\u001b[0;32m    774\u001b[0m     )\n\u001b[0;32m    776\u001b[0m \u001b[38;5;28;01melif\u001b[39;00m \u001b[38;5;28misinstance\u001b[39m(data, \u001b[38;5;28mdict\u001b[39m):\n\u001b[0;32m    777\u001b[0m     \u001b[38;5;66;03m# GH#38939 de facto copy defaults to False only in non-dict cases\u001b[39;00m\n\u001b[1;32m--> 778\u001b[0m     mgr \u001b[38;5;241m=\u001b[39m dict_to_mgr(data, index, columns, dtype\u001b[38;5;241m=\u001b[39mdtype, copy\u001b[38;5;241m=\u001b[39mcopy, typ\u001b[38;5;241m=\u001b[39mmanager)\n\u001b[0;32m    779\u001b[0m \u001b[38;5;28;01melif\u001b[39;00m \u001b[38;5;28misinstance\u001b[39m(data, ma\u001b[38;5;241m.\u001b[39mMaskedArray):\n\u001b[0;32m    780\u001b[0m     \u001b[38;5;28;01mfrom\u001b[39;00m \u001b[38;5;21;01mnumpy\u001b[39;00m\u001b[38;5;21;01m.\u001b[39;00m\u001b[38;5;21;01mma\u001b[39;00m \u001b[38;5;28;01mimport\u001b[39;00m mrecords\n",
      "File \u001b[1;32mC:\\ProgramData\\anaconda3\\Lib\\site-packages\\pandas\\core\\internals\\construction.py:503\u001b[0m, in \u001b[0;36mdict_to_mgr\u001b[1;34m(data, index, columns, dtype, typ, copy)\u001b[0m\n\u001b[0;32m    499\u001b[0m     \u001b[38;5;28;01melse\u001b[39;00m:\n\u001b[0;32m    500\u001b[0m         \u001b[38;5;66;03m# dtype check to exclude e.g. range objects, scalars\u001b[39;00m\n\u001b[0;32m    501\u001b[0m         arrays \u001b[38;5;241m=\u001b[39m [x\u001b[38;5;241m.\u001b[39mcopy() \u001b[38;5;28;01mif\u001b[39;00m \u001b[38;5;28mhasattr\u001b[39m(x, \u001b[38;5;124m\"\u001b[39m\u001b[38;5;124mdtype\u001b[39m\u001b[38;5;124m\"\u001b[39m) \u001b[38;5;28;01melse\u001b[39;00m x \u001b[38;5;28;01mfor\u001b[39;00m x \u001b[38;5;129;01min\u001b[39;00m arrays]\n\u001b[1;32m--> 503\u001b[0m \u001b[38;5;28;01mreturn\u001b[39;00m arrays_to_mgr(arrays, columns, index, dtype\u001b[38;5;241m=\u001b[39mdtype, typ\u001b[38;5;241m=\u001b[39mtyp, consolidate\u001b[38;5;241m=\u001b[39mcopy)\n",
      "File \u001b[1;32mC:\\ProgramData\\anaconda3\\Lib\\site-packages\\pandas\\core\\internals\\construction.py:114\u001b[0m, in \u001b[0;36marrays_to_mgr\u001b[1;34m(arrays, columns, index, dtype, verify_integrity, typ, consolidate)\u001b[0m\n\u001b[0;32m    111\u001b[0m \u001b[38;5;28;01mif\u001b[39;00m verify_integrity:\n\u001b[0;32m    112\u001b[0m     \u001b[38;5;66;03m# figure out the index, if necessary\u001b[39;00m\n\u001b[0;32m    113\u001b[0m     \u001b[38;5;28;01mif\u001b[39;00m index \u001b[38;5;129;01mis\u001b[39;00m \u001b[38;5;28;01mNone\u001b[39;00m:\n\u001b[1;32m--> 114\u001b[0m         index \u001b[38;5;241m=\u001b[39m _extract_index(arrays)\n\u001b[0;32m    115\u001b[0m     \u001b[38;5;28;01melse\u001b[39;00m:\n\u001b[0;32m    116\u001b[0m         index \u001b[38;5;241m=\u001b[39m ensure_index(index)\n",
      "File \u001b[1;32mC:\\ProgramData\\anaconda3\\Lib\\site-packages\\pandas\\core\\internals\\construction.py:667\u001b[0m, in \u001b[0;36m_extract_index\u001b[1;34m(data)\u001b[0m\n\u001b[0;32m    664\u001b[0m         \u001b[38;5;28;01mraise\u001b[39;00m \u001b[38;5;167;01mValueError\u001b[39;00m(\u001b[38;5;124m\"\u001b[39m\u001b[38;5;124mPer-column arrays must each be 1-dimensional\u001b[39m\u001b[38;5;124m\"\u001b[39m)\n\u001b[0;32m    666\u001b[0m \u001b[38;5;28;01mif\u001b[39;00m \u001b[38;5;129;01mnot\u001b[39;00m indexes \u001b[38;5;129;01mand\u001b[39;00m \u001b[38;5;129;01mnot\u001b[39;00m raw_lengths:\n\u001b[1;32m--> 667\u001b[0m     \u001b[38;5;28;01mraise\u001b[39;00m \u001b[38;5;167;01mValueError\u001b[39;00m(\u001b[38;5;124m\"\u001b[39m\u001b[38;5;124mIf using all scalar values, you must pass an index\u001b[39m\u001b[38;5;124m\"\u001b[39m)\n\u001b[0;32m    669\u001b[0m \u001b[38;5;28;01mif\u001b[39;00m have_series:\n\u001b[0;32m    670\u001b[0m     index \u001b[38;5;241m=\u001b[39m union_indexes(indexes)\n",
      "\u001b[1;31mValueError\u001b[0m: If using all scalar values, you must pass an index"
     ]
    }
   ],
   "source": [
    "df = pd.DataFrame(response.json())"
   ]
  },
  {
   "cell_type": "code",
   "execution_count": null,
   "id": "0797071a-8ba6-4769-884c-22c990aa91fb",
   "metadata": {},
   "outputs": [],
   "source": []
  }
 ],
 "metadata": {
  "kernelspec": {
   "display_name": "Python 3 (ipykernel)",
   "language": "python",
   "name": "python3"
  },
  "language_info": {
   "codemirror_mode": {
    "name": "ipython",
    "version": 3
   },
   "file_extension": ".py",
   "mimetype": "text/x-python",
   "name": "python",
   "nbconvert_exporter": "python",
   "pygments_lexer": "ipython3",
   "version": "3.12.4"
  }
 },
 "nbformat": 4,
 "nbformat_minor": 5
}
